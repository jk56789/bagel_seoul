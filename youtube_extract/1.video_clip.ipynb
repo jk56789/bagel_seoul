{
 "cells": [
  {
   "cell_type": "code",
   "execution_count": 4,
   "metadata": {},
   "outputs": [
    {
     "name": "stdout",
     "output_type": "stream",
     "text": [
      "Moviepy - Running:\n",
      ">>> \"+ \" \".join(cmd)\n",
      "Moviepy - Command successful\n",
      "Clip saved successfully as video_clip.mp4\n"
     ]
    }
   ],
   "source": [
    "# video_clip_saver.py\n",
    "from moviepy.video.io.ffmpeg_tools import ffmpeg_extract_subclip\n",
    "\n",
    "def save_video_clip(video_path, start_time, end_time, output_path=\"clip.mp4\"):\n",
    "    ffmpeg_extract_subclip(video_path, start_time, end_time, targetname=output_path)\n",
    "    print(f\"Clip saved successfully as {output_path}\")\n",
    "\n",
    "def time_to_seconds(time_str):\n",
    "    h, m, s = map(int, time_str.split(':'))\n",
    "    return h * 3600 + m * 60 + s\n",
    "\n",
    "\n",
    "video_path = 'C:/Users/user/bagel_seoul/youtube_extract/download/tabata.mp4'\n",
    "start_time_str = '00:03:20'\n",
    "end_time_str = '00:04:20'\n",
    "\n",
    "start_time = time_to_seconds(start_time_str)\n",
    "end_time = time_to_seconds(end_time_str)\n",
    "\n",
    "clip_path = \"video_clip.mp4\"\n",
    "save_video_clip(video_path, start_time, end_time, clip_path)"
   ]
  },
  {
   "cell_type": "code",
   "execution_count": 30,
   "metadata": {},
   "outputs": [
    {
     "name": "stdout",
     "output_type": "stream",
     "text": [
      "Clip saved successfully as download/sub_sample/1028~1050_G-2.mp4\n"
     ]
    }
   ],
   "source": [
    "import cv2\n",
    "\n",
    "def save_video_clip(video_path, start_time, end_time, output_path=\"clip.mp4\"):\n",
    "    cap = cv2.VideoCapture(video_path)\n",
    "    fps = cap.get(cv2.CAP_PROP_FPS)\n",
    "    start_frame = int(start_time * fps)\n",
    "    end_frame = int(end_time * fps)\n",
    "\n",
    "    cap.set(cv2.CAP_PROP_POS_FRAMES, start_frame)\n",
    "    fourcc = cv2.VideoWriter_fourcc(*'mp4v')\n",
    "    out = cv2.VideoWriter(output_path, fourcc, fps, (int(cap.get(3)), int(cap.get(4))))\n",
    "\n",
    "    for frame_num in range(start_frame, end_frame):\n",
    "        ret, frame = cap.read()\n",
    "        if not ret:\n",
    "            break\n",
    "        \n",
    "        out.write(frame)\n",
    "\n",
    "    cap.release()\n",
    "    out.release()\n",
    "    print(f\"Clip saved successfully as {output_path}\")\n",
    "\n",
    "def time_to_seconds(time_str):\n",
    "    h, m, s = map(int, time_str.split(':'))\n",
    "    return h * 3600 + m * 60 + s\n",
    "\n",
    "\n",
    "video_path = 'C:/Users/user/bagel_seoul/youtube_extract/download/tabata.mp4'\n",
    "start_time_str = '00:17:08'\n",
    "end_time_str = '00:17:30'\n",
    "\n",
    "start_time = time_to_seconds(start_time_str)\n",
    "end_time = time_to_seconds(end_time_str)\n",
    "name = 'G-2'\n",
    "clip_path = f\"download/sub_sample/{start_time}~{end_time}_{name}.mp4\"\n",
    "save_video_clip(video_path, start_time, end_time, clip_path)"
   ]
  }
 ],
 "metadata": {
  "kernelspec": {
   "display_name": "action_project",
   "language": "python",
   "name": "python3"
  },
  "language_info": {
   "codemirror_mode": {
    "name": "ipython",
    "version": 3
   },
   "file_extension": ".py",
   "mimetype": "text/x-python",
   "name": "python",
   "nbconvert_exporter": "python",
   "pygments_lexer": "ipython3",
   "version": "3.11.4"
  }
 },
 "nbformat": 4,
 "nbformat_minor": 2
}
