{
 "cells": [
  {
   "cell_type": "code",
   "execution_count": 1,
   "metadata": {},
   "outputs": [
    {
     "name": "stdout",
     "output_type": "stream",
     "text": [
      "Video downloaded successfully as download/tabata.mp4\n",
      "Frames saved successfully in frames\n"
     ]
    }
   ],
   "source": [
    "# youtube_video_saver.py\n",
    "import cv2\n",
    "from pytube import YouTube\n",
    "\n",
    "def download_youtube_video(link, output_path=\"video.mp4\"):\n",
    "    yt = YouTube(link)\n",
    "    stream = yt.streams.filter(file_extension='mp4').first()\n",
    "    stream.download(filename=output_path)\n",
    "    print(f\"Video downloaded successfully as {output_path}\")\n",
    "\n",
    "def save_video_frames(video_path, output_folder=\"frames\"):\n",
    "    cap = cv2.VideoCapture(video_path)\n",
    "    frame_count = 0\n",
    "\n",
    "    if not cap.isOpened():\n",
    "        print(\"Error: Could not open video.\")\n",
    "        return\n",
    "\n",
    "    while True:\n",
    "        ret, frame = cap.read()\n",
    "        if not ret:\n",
    "            break\n",
    "        frame_filename = f\"{output_folder}/frame_{frame_count:04d}.jpg\"\n",
    "        cv2.imwrite(frame_filename, frame)\n",
    "        frame_count += 1\n",
    "\n",
    "    cap.release()\n",
    "    print(f\"Frames saved successfully in {output_folder}\")\n",
    "\n",
    "if __name__ == \"__main__\":\n",
    "    link = 'https://www.youtube.com/watch?v=4EKo44DUvjg&t=456s'\n",
    "    video_path = \"download/tabata.mp4\"\n",
    "    download_youtube_video(link, video_path)\n",
    "    save_video_frames(video_path)"
   ]
  },
  {
   "cell_type": "code",
   "execution_count": null,
   "metadata": {},
   "outputs": [],
   "source": []
  }
 ],
 "metadata": {
  "kernelspec": {
   "display_name": "action_project",
   "language": "python",
   "name": "python3"
  },
  "language_info": {
   "codemirror_mode": {
    "name": "ipython",
    "version": 3
   },
   "file_extension": ".py",
   "mimetype": "text/x-python",
   "name": "python",
   "nbconvert_exporter": "python",
   "pygments_lexer": "ipython3",
   "version": "3.11.4"
  }
 },
 "nbformat": 4,
 "nbformat_minor": 2
}
